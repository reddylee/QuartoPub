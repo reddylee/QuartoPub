{
  "cells": [
    {
      "cell_type": "markdown",
      "metadata": {},
      "source": [
        "# Tables and Plots\n",
        "\n",
        "Reddy Lee  \n",
        "2024-03-28\n",
        "\n",
        "------------------------------------------------------------------------\n",
        "\n",
        "## Setup"
      ],
      "id": "d35296ec-d68a-483f-80af-279854c6cd34"
    },
    {
      "cell_type": "code",
      "execution_count": null,
      "metadata": {},
      "outputs": [],
      "source": [
        "#| message: false\n",
        "library(tidyverse)"
      ],
      "id": "96fa51e6-44fd-4035-acfc-ac197af0190b"
    },
    {
      "cell_type": "markdown",
      "metadata": {},
      "source": [
        "## Plot"
      ],
      "id": "97e8ffed-b1db-4f7b-8abd-1a1926545267"
    },
    {
      "cell_type": "code",
      "execution_count": null,
      "metadata": {
        "lable": "fig-cars"
      },
      "outputs": [
        {
          "output_type": "display_data",
          "metadata": {},
          "data": {}
        }
      ],
      "source": [
        "#| lable: fig-cars\n",
        "#| fig-cap: Scatter plot of mpg vs hp colored by am\n",
        "mtcars |> \n",
        "  mutate(am = as.factor(am)) |>\n",
        "  ggplot(aes(x = mpg, y = hp, color = am)) +\n",
        "  geom_point() "
      ],
      "id": "cc07deae-d028-41d3-9823-b2d42905e3f0"
    },
    {
      "cell_type": "markdown",
      "metadata": {},
      "source": [
        "## Table"
      ],
      "id": "705bbf7b-7046-4e9f-ab1c-a89585c8c007"
    },
    {
      "cell_type": "code",
      "execution_count": null,
      "metadata": {
        "lable": "tbl-cars"
      },
      "outputs": [
        {
          "output_type": "display_data",
          "metadata": {},
          "data": {
            "text/markdown": [
              "  -------------------------------------------------------------------------------------------\n",
              "                        mpg   cyl   disp    hp   drat      wt    qsec   vs   am   gear   carb\n",
              "  ------------------ ------ ----- ------ ----- ------ ------- ------- ---- ---- ------ ------\n",
              "  Mazda RX4            21.0     6    160   110   3.90   2.620   16.46    0    1      4      4\n",
              "\n",
              "  Mazda RX4 Wag        21.0     6    160   110   3.90   2.875   17.02    0    1      4      4\n",
              "\n",
              "  Datsun 710           22.8     4    108    93   3.85   2.320   18.61    1    1      4      1\n",
              "\n",
              "  Hornet 4 Drive       21.4     6    258   110   3.08   3.215   19.44    1    0      3      1\n",
              "\n",
              "  Hornet Sportabout    18.7     8    360   175   3.15   3.440   17.02    0    0      3      2\n",
              "  -------------------------------------------------------------------------------------------\n",
              "\n",
              "  : First 5 rows of mtcars\n"
            ]
          }
        }
      ],
      "source": [
        "#| lable: tbl-cars\n",
        "#| tbl-cap: First 5 rows of mtcars\n",
        "\n",
        "mtcars |> \n",
        "  head(5) |>\n",
        "  knitr::kable()"
      ],
      "id": "068a96d6-f17a-4b5b-9daa-9e7180582b7f"
    }
  ],
  "nbformat": 4,
  "nbformat_minor": 5,
  "metadata": {
    "kernelspec": {
      "display_name": "Python 3",
      "language": "python",
      "name": "python3"
    }
  }
}